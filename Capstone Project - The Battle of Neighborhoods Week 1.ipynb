{
 "cells": [
  {
   "cell_type": "markdown",
   "metadata": {
    "collapsed": true
   },
   "source": [
    "# Capstone Project - The Battle of Neighborhoods"
   ]
  },
  {
   "cell_type": "markdown",
   "metadata": {},
   "source": [
    "### Introduction / business problem"
   ]
  },
  {
   "cell_type": "markdown",
   "metadata": {},
   "source": [
    "When family is moving to different cities and states in Canada and they need lots of research for various factors such as housing prices and reputated schools. This project is for those people who are looking for better neighborhood in the city of Scarborough in Ontario Canada. It can include good location to access mall, school, grocery shops, and etc.\n",
    "\n",
    "This project is created to help people who is planning to move to Scarborough Ontario in exploring better facilities around their neighborhood. It will help them to make smart and efficient decision on selecting better neighborhood out of other various neighborhoods in Scarborough.\n",
    "It will conduct comparative analysis between neighborhoods in Scarborough with features of housing price, school ratings, crime rates, weather conditions, road connectivity, water resources and sewers recreational facilities.\n",
    "\n",
    "This will help people to get awareness of the area and neighborhood before moving to a new city."
   ]
  },
  {
   "cell_type": "markdown",
   "metadata": {},
   "source": [
    "### Data"
   ]
  },
  {
   "cell_type": "markdown",
   "metadata": {},
   "source": [
    "We have obtained the dataset of Scarborough consisting of latitude, longitude, and zip codes.\n",
    "Data Link: https://en.wikipedia.org/wiki/List_of_postal_codes_of_Canada:_M\n",
    "\n",
    "**A description of the data:** the data used to solve this problem is geolocation data collection from FourSquare. The data retrieved from Foursquare API contains information of venues within a specified distance of the longitude and latitude of the postal codes.\n",
    "The following is the info obtained per venue:\n",
    "1. Neighborhood\n",
    "2. Neighborhood Latitude\n",
    "3. Neighborhood Longitude\n",
    "4. Venue\n",
    "5. Name of the venue e.g. the name of a store or restaurant\n",
    "6. Venue Latitude\n",
    "7. Venue Longitude\n",
    "8. Venue Category\n",
    "\n",
    "Data will be used in the following way: by knowing the locations of neighborhoods, we can apply unsupervised learning technique like kernerl density estimation to determine the area of influence."
   ]
  }
 ],
 "metadata": {
  "kernelspec": {
   "display_name": "Python 3.7",
   "language": "python",
   "name": "python3"
  },
  "language_info": {
   "codemirror_mode": {
    "name": "ipython",
    "version": 3
   },
   "file_extension": ".py",
   "mimetype": "text/x-python",
   "name": "python",
   "nbconvert_exporter": "python",
   "pygments_lexer": "ipython3",
   "version": "3.7.9"
  }
 },
 "nbformat": 4,
 "nbformat_minor": 1
}
